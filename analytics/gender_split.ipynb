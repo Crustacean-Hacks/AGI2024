{
 "cells": [
  {
   "cell_type": "code",
   "execution_count": 1,
   "metadata": {},
   "outputs": [],
   "source": [
    "import pandas as pd"
   ]
  },
  {
   "cell_type": "code",
   "execution_count": 2,
   "metadata": {},
   "outputs": [
    {
     "name": "stderr",
     "output_type": "stream",
     "text": [
      "/tmp/ipykernel_3803/1585884409.py:1: DtypeWarning: Columns (22) have mixed types. Specify dtype option on import or set low_memory=False.\n",
      "  BeforeLaw = pd.read_csv('BeforeLaw.csv')\n",
      "/tmp/ipykernel_3803/1585884409.py:2: DtypeWarning: Columns (22) have mixed types. Specify dtype option on import or set low_memory=False.\n",
      "  AfterLaw = pd.read_csv('AfterLaw.csv')\n"
     ]
    }
   ],
   "source": [
    "BeforeLaw = pd.read_csv('BeforeLaw.csv')\n",
    "AfterLaw = pd.read_csv('AfterLaw.csv')"
   ]
  },
  {
   "cell_type": "code",
   "execution_count": 7,
   "metadata": {},
   "outputs": [],
   "source": [
    "BeforeLaw = BeforeLaw[(BeforeLaw['yearBirth'] >= 1950) & (BeforeLaw['yearBirth'] <= 2007)]\n",
    "AfterLaw = AfterLaw[(AfterLaw['yearBirth'] >= 1950) & (AfterLaw['yearBirth'] <= 2007)]"
   ]
  },
  {
   "cell_type": "code",
   "execution_count": 14,
   "metadata": {},
   "outputs": [
    {
     "name": "stdout",
     "output_type": "stream",
     "text": [
      "total applicants before law:  2461805\n",
      "total applicants after law:  3848446\n",
      "\n",
      "total male applicants before law:  1550967\n",
      "total female applicants before law:  910838\n",
      "\n",
      "total male applicants after law:  2330333\n",
      "total female applicants after law:  1518113\n",
      "\n",
      "total callbacks before law:  82286\n",
      "total callbacks after law:  112699\n",
      "\n",
      "total male calbacks before law:  51715\n",
      "total female calbacks before law:  30571\n",
      "\n",
      "total male calbacks after law:  70432\n",
      "total female calbacks after law:  42267\n",
      "\n"
     ]
    }
   ],
   "source": [
    "print(\"total applicants before law: \", BeforeLaw.shape[0])\n",
    "print(\"total applicants after law: \", AfterLaw.shape[0])\n",
    "print()\n",
    "\n",
    "print(\"total male applicants before law: \", BeforeLaw[BeforeLaw['FemaleFlag'] == 0].shape[0])\n",
    "print(\"total female applicants before law: \", BeforeLaw[BeforeLaw['FemaleFlag'] == 1].shape[0])\n",
    "print()\n",
    "\n",
    "print(\"total male applicants after law: \", AfterLaw[AfterLaw['FemaleFlag'] == 0].shape[0])\n",
    "print(\"total female applicants after law: \", AfterLaw[AfterLaw['FemaleFlag'] == 1].shape[0])\n",
    "print()\n",
    "\n",
    "print(\"total callbacks before law: \", BeforeLaw['CalLetterFlag'].sum())\n",
    "print(\"total callbacks after law: \", AfterLaw['CalLetterFlag'].sum())\n",
    "print()\n",
    "\n",
    "print(\"total male calbacks before law: \", BeforeLaw[BeforeLaw['FemaleFlag'] == 0][\"CalLetterFlag\"].sum())\n",
    "print(\"total female calbacks before law: \", BeforeLaw[BeforeLaw['FemaleFlag'] == 1][\"CalLetterFlag\"].sum())\n",
    "print()\n",
    "\n",
    "print(\"total male calbacks after law: \", AfterLaw[AfterLaw['FemaleFlag'] == 0][\"CalLetterFlag\"].sum())\n",
    "print(\"total female calbacks after law: \", AfterLaw[AfterLaw['FemaleFlag'] == 1][\"CalLetterFlag\"].sum())\n",
    "print()\n"
   ]
  }
 ],
 "metadata": {
  "kernelspec": {
   "display_name": "venv",
   "language": "python",
   "name": "python3"
  },
  "language_info": {
   "codemirror_mode": {
    "name": "ipython",
    "version": 3
   },
   "file_extension": ".py",
   "mimetype": "text/x-python",
   "name": "python",
   "nbconvert_exporter": "python",
   "pygments_lexer": "ipython3",
   "version": "3.10.12"
  }
 },
 "nbformat": 4,
 "nbformat_minor": 2
}
